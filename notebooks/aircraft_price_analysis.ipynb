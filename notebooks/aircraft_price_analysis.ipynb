{
 "cells": [
  {
   "cell_type": "markdown",
   "metadata": {},
   "source": [
    "# Aircraft Price Analysis\n",
    "\n",
    "This notebook contains a comprehensive analysis of aircraft prices and their determining factors."
   ]
  },
  {
   "cell_type": "code",
   "execution_count": null,
   "metadata": {},
   "source": [
    "import pandas as pd\n",
    "import numpy as np\n",
    "import matplotlib.pyplot as plt\n",
    "import seaborn as sns\n",
    "from sklearn.model_selection import train_test_split\n",
    "from sklearn.ensemble import RandomForestRegressor\n",
    "from sklearn.preprocessing import StandardScaler\n",
    "import plotly.express as px\n",
    "import plotly.graph_objects as go"
   ]
  },
  {
   "cell_type": "markdown",
   "metadata": {},
   "source": [
    "## 1. Data Loading and Cleaning"
   ]
  },
  {
   "cell_type": "code",
   "execution_count": null,
   "metadata": {},
   "source": [
    "def load_data():\n",
    "    \"\"\"Load the raw aircraft price dataset.\"\"\"\n",
    "    df = pd.read_csv('../data/airplane_price_dataset.csv')\n",
    "    return df\n",
    "\n",
    "def clean_data(df):\n",
    "    \"\"\"Clean and preprocess the data.\"\"\"\n",
    "    df_clean = df.copy()\n",
    "    \n",
    "    # Rename columns to English\n",
    "    column_names = {\n",
    "        'Üretim Yılı': 'Production_Year',\n",
    "        'Motor Sayısı': 'Number_of_Engines',\n",
    "        'Motor Türü': 'Engine_Type',\n",
    "        'Kapasite': 'Capacity',\n",
    "        'Menzil (km)': 'Range_km',\n",
    "        'Yakıt Tüketimi (L/saat)': 'Fuel_Consumption_Lph',\n",
    "        'Saatlik Bakım Maliyeti ($)': 'Hourly_Maintenance_Cost',\n",
    "        'Yaş': 'Age',\n",
    "        'Satış Bölgesi': 'Sales_Region',\n",
    "        'Fiyat ($)': 'Price_USD'\n",
    "    }\n",
    "    df_clean = df_clean.rename(columns=column_names)\n",
    "    \n",
    "    # Remove outliers using IQR method\n",
    "    numerical_cols = ['Price_USD', 'Capacity', 'Range_km', 'Fuel_Consumption_Lph', 'Hourly_Maintenance_Cost']\n",
    "    for col in numerical_cols:\n",
    "        Q1 = df_clean[col].quantile(0.25)\n",
    "        Q3 = df_clean[col].quantile(0.75)\n",
    "        IQR = Q3 - Q1\n",
    "        lower_bound = Q1 - 1.5 * IQR\n",
    "        upper_bound = Q3 + 1.5 * IQR\n",
    "        df_clean = df_clean[(df_clean[col] >= lower_bound) & (df_clean[col] <= upper_bound)]\n",
    "    \n",
    "    return df_clean"
   ]
  },
  {
   "cell_type": "markdown",
   "metadata": {},
   "source": [
    "## 2. Feature Engineering"
   ]
  },
  {
   "cell_type": "code",
   "execution_count": null,
   "metadata": {},
   "source": [
    "def engineer_features(df):\n",
    "    \"\"\"Create new features for analysis.\"\"\"\n",
    "    df = df.copy()\n",
    "    \n",
    "    # Cost per seat\n",
    "    df['Cost_Per_Seat'] = df['Price_USD'] / df['Capacity']\n",
    "    \n",
    "    # Maintenance cost per seat\n",
    "    df['Maintenance_Cost_Per_Seat'] = df['Hourly_Maintenance_Cost'] / df['Capacity']\n",
    "    \n",
    "    # Fuel efficiency\n",
    "    df['Fuel_Efficiency'] = df['Fuel_Consumption_Lph'] / df['Capacity']\n",
    "    \n",
    "    # Range efficiency\n",
    "    df['Range_Efficiency'] = df['Range_km'] / df['Fuel_Consumption_Lph']\n",
    "    \n",
    "    # Price per range km\n",
    "    df['Price_Per_Range'] = df['Price_USD'] / df['Range_km']\n",
    "    \n",
    "    # Operational cost index\n",
    "    df['Operational_Cost_Index'] = (df['Hourly_Maintenance_Cost'] + \n",
    "                                  df['Fuel_Consumption_Lph'] * 100) / df['Capacity']\n",
    "    \n",
    "    # Age factor\n",
    "    df['Age_Factor'] = np.exp(-0.05 * df['Age'])\n",
    "    \n",
    "    # Categories\n",
    "    df['Size_Category'] = pd.qcut(df['Capacity'], q=4, \n",
    "                                labels=['Small', 'Medium', 'Large', 'Extra Large'])\n",
    "    df['Range_Category'] = pd.qcut(df['Range_km'], q=4, \n",
    "                                 labels=['Short', 'Medium', 'Long', 'Ultra Long'])\n",
    "    \n",
    "    return df"
   ]
  },
  {
   "cell_type": "markdown",
   "metadata": {},
   "source": [
    "## 3. Load and Prepare Data"
   ]
  },
  {
   "cell_type": "code",
   "execution_count": null,
   "metadata": {},
   "source": [
    "# Load and prepare data\n",
    "df_raw = load_data()\n",
    "df_clean = clean_data(df_raw)\n",
    "df = engineer_features(df_clean)\n",
    "df.head()"
   ]
  },
  {
   "cell_type": "markdown",
   "metadata": {},
   "source": [
    "## 4. Exploratory Data Analysis"
   ]
  },
  {
   "cell_type": "code",
   "execution_count": null,
   "metadata": {},
   "source": [
    "# Price distribution\n",
    "plt.figure(figsize=(12, 6))\n",
    "sns.boxplot(data=df, x='Model', y='Price_USD')\n",
    "plt.xticks(rotation=45)\n",
    "plt.title('Price Distribution by Aircraft Model')\n",
    "plt.show()"
   ]
  },
  {
   "cell_type": "code",
   "execution_count": null,
   "metadata": {},
   "source": [
    "# Price vs Age relationship\n",
    "plt.figure(figsize=(10, 6))\n",
    "sns.scatterplot(data=df, x='Age', y='Price_USD', hue='Model', size='Capacity')\n",
    "plt.title('Price vs Age by Aircraft Model')\n",
    "plt.show()"
   ]
  },
  {
   "cell_type": "markdown",
   "metadata": {},
   "source": [
    "## 5. Feature Importance Analysis"
   ]
  },
  {
   "cell_type": "code",
   "execution_count": null,
   "metadata": {},
   "source": [
    "# Prepare features for model\n",
    "numeric_features = [\n",
    "    'Production_Year', 'Number_of_Engines', 'Capacity', 'Range_km',\n",
    "    'Fuel_Consumption_Lph', 'Hourly_Maintenance_Cost', 'Age',\n",
    "    'Cost_Per_Seat', 'Maintenance_Cost_Per_Seat', 'Fuel_Efficiency',\n",
    "    'Range_Efficiency', 'Price_Per_Range', 'Operational_Cost_Index',\n",
    "    'Age_Factor'\n",
    "]\n",
    "\n",
    "categorical_features = ['Model', 'Sales_Region', 'Size_Category', 'Range_Category']\n",
    "\n",
    "# Prepare features\n",
    "X = df[numeric_features].copy()\n",
    "X_cat = pd.get_dummies(df[categorical_features])\n",
    "X = pd.concat([X, X_cat], axis=1)\n",
    "y = df['Price_USD']\n",
    "\n",
    "# Train model\n",
    "model = RandomForestRegressor(n_estimators=200, random_state=42)\n",
    "model.fit(X, y)\n",
    "\n",
    "# Plot feature importance\n",
    "feature_importance = pd.DataFrame({\n",
    "    'feature': X.columns,\n",
    "    'importance': model.feature_importances_\n",
    "})\n",
    "feature_importance = feature_importance.sort_values('importance', ascending=False).head(10)\n",
    "\n",
    "plt.figure(figsize=(12, 6))\n",
    "sns.barplot(data=feature_importance, x='importance', y='feature')\n",
    "plt.title('Top 10 Most Important Features')\n",
    "plt.show()"
   ]
  },
  {
   "cell_type": "markdown",
   "metadata": {},
   "source": [
    "## 6. Price Prediction Example"
   ]
  },
  {
   "cell_type": "code",
   "execution_count": null,
   "metadata": {},
   "source": [
    "# Example prediction\n",
    "example_data = pd.DataFrame({\n",
    "    'Production_Year': [2020],\n",
    "    'Number_of_Engines': [2],\n",
    "    'Capacity': [50],\n",
    "    'Range_km': [3000],\n",
    "    'Fuel_Consumption_Lph': [8.42],\n",
    "    'Hourly_Maintenance_Cost': [2782],\n",
    "    'Age': [5],\n",
    "    'Model': ['Bombardier CRJ200'],\n",
    "    'Sales_Region': ['Asia']\n",
    "})\n",
    "\n",
    "# Engineer features for the example\n",
    "example_data = engineer_features(example_data)\n",
    "\n",
    "# Prepare features\n",
    "X_example = example_data[numeric_features].copy()\n",
    "X_example_cat = pd.get_dummies(example_data[categorical_features])\n",
    "X_example = pd.concat([X_example, X_example_cat], axis=1)\n",
    "\n",
    "# Add missing columns\n",
    "for col in X.columns:\n",
    "    if col not in X_example.columns:\n",
    "        X_example[col] = 0\n",
    "\n",
    "# Make prediction\n",
    "prediction = model.predict(X_example[X.columns])[0]\n",
    "print(f\"Predicted price: ${prediction:,.2f}\")"
   ]
  }
 ],
 "metadata": {
  "kernelspec": {
   "display_name": "Python 3",
   "language": "python",
   "name": "python3"
  },
  "language_info": {
   "codemirror_mode": {
    "name": "ipython",
    "version": 3
   },
   "file_extension": ".py",
   "mimetype": "text/x-python",
   "name": "python",
   "nbconvert_exporter": "python",
   "pygments_lexer": "ipython3",
   "version": "3.11.0"
  }
 },
 "nbformat": 4,
 "nbformat_minor": 4
}
